{
 "cells": [
  {
   "cell_type": "code",
   "execution_count": 1,
   "metadata": {},
   "outputs": [
    {
     "name": "stdout",
     "output_type": "stream",
     "text": [
      "Original dataset distribution: Counter({'Happiness': 101214, 'Peace': 93486, 'Sadness': 53310, 'Anger': 44798, 'Surprise': 38936, 'Fear': 34626, 'Aversion': 29767})\n",
      "Balanced dataset distribution: Counter({'Aversion': 57758, 'Sadness': 57347, 'Peace': 55694, 'Happiness': 54907, 'Surprise': 51685, 'Fear': 51145, 'Anger': 51073})\n"
     ]
    }
   ],
   "source": [
    "import os\n",
    "import shutil\n",
    "import random\n",
    "from collections import Counter\n",
    "from imblearn.over_sampling import RandomOverSampler\n",
    "from imblearn.under_sampling import RandomUnderSampler\n",
    "from sklearn.model_selection import train_test_split\n",
    "\n",
    "dataset_path = r\"E:\\train_gen_joints\"\n",
    "balanced_dataset_path = r\"E:\\train_gen_joints_balanced\"\n",
    "\n",
    "if not os.path.exists(balanced_dataset_path):\n",
    "    os.makedirs(balanced_dataset_path)\n",
    "\n",
    "# Load images and labels\n",
    "def load_images_and_labels(dataset_path):\n",
    "    images = []\n",
    "    labels = []\n",
    "    for emotion_dir in os.listdir(dataset_path):\n",
    "        emotion_path = os.path.join(dataset_path, emotion_dir)\n",
    "        if os.path.isdir(emotion_path):\n",
    "            for img_file in os.listdir(emotion_path):\n",
    "                img_path = os.path.join(emotion_path, img_file)\n",
    "                images.append(img_path)\n",
    "                labels.append(emotion_dir)\n",
    "    return images, labels\n",
    "\n",
    "images, labels = load_images_and_labels(dataset_path)\n",
    "\n",
    "# Randomize dataset with target size between 50k-60k\n",
    "def balance_with_random_target_size(images, labels, min_size=50000, max_size=60000):\n",
    "    balanced_images = []\n",
    "    balanced_labels = []\n",
    "    label_to_images = {}\n",
    "\n",
    "    # Organize images by class\n",
    "    for img, label in zip(images, labels):\n",
    "        if label not in label_to_images:\n",
    "            label_to_images[label] = []\n",
    "        label_to_images[label].append(img)\n",
    "\n",
    "    for label, imgs in label_to_images.items():\n",
    "        target_size = random.randint(min_size, max_size)  # Random target size between min_size and max_size\n",
    "        \n",
    "        if len(imgs) > target_size:\n",
    "            # Undersample if there are more than the target size\n",
    "            imgs = random.sample(imgs, target_size)\n",
    "        elif len(imgs) < target_size:\n",
    "            # Oversample if there are less than the target size\n",
    "            imgs = imgs * (target_size // len(imgs)) + random.sample(imgs, target_size % len(imgs))\n",
    "        \n",
    "        balanced_images.extend(imgs)\n",
    "        balanced_labels.extend([label] * len(imgs))\n",
    "\n",
    "    return balanced_images, balanced_labels\n",
    "\n",
    "balanced_images, balanced_labels = balance_with_random_target_size(images, labels, min_size=50000, max_size=60000)\n",
    "\n",
    "def save_balanced_dataset(images, labels, output_path):\n",
    "    for img_path, label in zip(images, labels):\n",
    "        # Create label directory if it doesn't exist\n",
    "        label_dir = os.path.join(output_path, label)\n",
    "        if not os.path.exists(label_dir):\n",
    "            os.makedirs(label_dir)\n",
    "        \n",
    "        # Copy the image to the balanced dataset folder\n",
    "        img_filename = os.path.basename(img_path)\n",
    "        shutil.copy(img_path, os.path.join(label_dir, img_filename))\n",
    "\n",
    "save_balanced_dataset(balanced_images, balanced_labels, balanced_dataset_path)\n",
    "\n",
    "print(f\"Original dataset distribution: {Counter(labels)}\")\n",
    "print(f\"Balanced dataset distribution: {Counter(balanced_labels)}\")\n"
   ]
  }
 ],
 "metadata": {
  "kernelspec": {
   "display_name": "Python 3",
   "language": "python",
   "name": "python3"
  },
  "language_info": {
   "codemirror_mode": {
    "name": "ipython",
    "version": 3
   },
   "file_extension": ".py",
   "mimetype": "text/x-python",
   "name": "python",
   "nbconvert_exporter": "python",
   "pygments_lexer": "ipython3",
   "version": "3.11.0"
  }
 },
 "nbformat": 4,
 "nbformat_minor": 2
}
